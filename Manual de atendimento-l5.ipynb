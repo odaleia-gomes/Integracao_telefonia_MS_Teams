{
 "cells": [
  {
   "cell_type": "code",
   "execution_count": 6,
   "id": "388aea8b-26a5-4f45-b9b9-4763aeb59f3d",
   "metadata": {},
   "outputs": [
    {
     "name": "stdout",
     "output_type": "stream",
     "text": [
      "Requirement already satisfied: boto3 in c:\\users\\odaleia.gomes\\appdata\\local\\anaconda3\\lib\\site-packages (1.34.69)\n",
      "Requirement already satisfied: botocore<1.35.0,>=1.34.69 in c:\\users\\odaleia.gomes\\appdata\\local\\anaconda3\\lib\\site-packages (from boto3) (1.34.162)\n",
      "Requirement already satisfied: jmespath<2.0.0,>=0.7.1 in c:\\users\\odaleia.gomes\\appdata\\local\\anaconda3\\lib\\site-packages (from boto3) (1.0.1)\n",
      "Requirement already satisfied: s3transfer<0.11.0,>=0.10.0 in c:\\users\\odaleia.gomes\\appdata\\local\\anaconda3\\lib\\site-packages (from boto3) (0.10.1)\n",
      "Requirement already satisfied: python-dateutil<3.0.0,>=2.1 in c:\\users\\odaleia.gomes\\appdata\\local\\anaconda3\\lib\\site-packages (from botocore<1.35.0,>=1.34.69->boto3) (2.9.0.post0)\n",
      "Requirement already satisfied: urllib3!=2.2.0,<3,>=1.25.4 in c:\\users\\odaleia.gomes\\appdata\\local\\anaconda3\\lib\\site-packages (from botocore<1.35.0,>=1.34.69->boto3) (2.2.3)\n",
      "Requirement already satisfied: six>=1.5 in c:\\users\\odaleia.gomes\\appdata\\local\\anaconda3\\lib\\site-packages (from python-dateutil<3.0.0,>=2.1->botocore<1.35.0,>=1.34.69->boto3) (1.16.0)\n",
      "Requirement already satisfied: nltk in c:\\users\\odaleia.gomes\\appdata\\local\\anaconda3\\lib\\site-packages (3.9.1)\n",
      "Requirement already satisfied: click in c:\\users\\odaleia.gomes\\appdata\\local\\anaconda3\\lib\\site-packages (from nltk) (8.1.7)\n",
      "Requirement already satisfied: joblib in c:\\users\\odaleia.gomes\\appdata\\local\\anaconda3\\lib\\site-packages (from nltk) (1.4.2)\n",
      "Requirement already satisfied: regex>=2021.8.3 in c:\\users\\odaleia.gomes\\appdata\\local\\anaconda3\\lib\\site-packages (from nltk) (2024.9.11)\n",
      "Requirement already satisfied: tqdm in c:\\users\\odaleia.gomes\\appdata\\local\\anaconda3\\lib\\site-packages (from nltk) (4.66.5)\n",
      "Requirement already satisfied: colorama in c:\\users\\odaleia.gomes\\appdata\\local\\anaconda3\\lib\\site-packages (from click->nltk) (0.4.6)\n",
      "Requirement already satisfied: unidecode in c:\\users\\odaleia.gomes\\appdata\\local\\anaconda3\\lib\\site-packages (1.3.8)\n"
     ]
    }
   ],
   "source": [
    "# Instalação das bibliotecas (execute em uma célula separada)\n",
    "!pip install boto3\n",
    "!pip install nltk\n",
    "!pip install unidecode\n"
   ]
  },
  {
   "cell_type": "code",
   "execution_count": 7,
   "id": "09c1bfa2-bce9-47ff-adc1-30656256bfd2",
   "metadata": {},
   "outputs": [],
   "source": [
    "# Importação das bibliotecas\n",
    "import json\n",
    "import re\n",
    "import nltk\n",
    "from nltk.tokenize import sent_tokenize\n",
    "import boto3\n",
    "import os\n",
    "import unidecode  # Para lidar com caracteres especiais"
   ]
  },
  {
   "cell_type": "code",
   "execution_count": 8,
   "id": "66657ccd-a220-4782-8244-53bfb56854f3",
   "metadata": {},
   "outputs": [
    {
     "name": "stderr",
     "output_type": "stream",
     "text": [
      "[nltk_data] Downloading package punkt to\n",
      "[nltk_data]     C:\\Users\\odaleia.gomes\\AppData\\Roaming\\nltk_data...\n",
      "[nltk_data]   Package punkt is already up-to-date!\n",
      "[nltk_data] Downloading package punkt_tab to\n",
      "[nltk_data]     C:\\Users\\odaleia.gomes\\AppData\\Roaming\\nltk_data...\n",
      "[nltk_data]   Package punkt_tab is already up-to-date!\n"
     ]
    },
    {
     "data": {
      "text/plain": [
       "True"
      ]
     },
     "execution_count": 8,
     "metadata": {},
     "output_type": "execute_result"
    }
   ],
   "source": [
    "# Download do recurso 'punkt' do NLTK (execute esta linha apenas uma vez por sessão)\n",
    "nltk.download('punkt')\n",
    "nltk.download('punkt_tab')"
   ]
  },
  {
   "cell_type": "code",
   "execution_count": 10,
   "id": "754e2a4a-7862-4a36-b0f5-16b2c81be491",
   "metadata": {},
   "outputs": [],
   "source": [
    "# 2. Criar o cliente S3\n",
    "s3 = boto3.client('s3')"
   ]
  },
  {
   "cell_type": "code",
   "execution_count": 14,
   "id": "a9c4c310-5ead-4ea4-bafc-1fa5fc099168",
   "metadata": {},
   "outputs": [
    {
     "name": "stdout",
     "output_type": "stream",
     "text": [
      "Manual de Boas Praticas de Atendimento Suporte\n",
      "2024\n",
      "1o Edicao\n",
      "\n",
      "Indice\n",
      "1 CRITERIOS DE AVALIACAO DO ATENDIMENTO 01\n",
      "2 ROTEIRO DE ATENDIMENTO 02\n",
      "2.1 ATENDIMENTO TELEFONICO 03\n",
      "2.2 ATENDIMENTO VIA E-MAIL 04\n",
      "2.3 ATENDIMENTO VIA CHAT 05\n",
      "2.4 ATENDIMENTO PRESENCIAL 06\n",
      "2.5 DICAS PARA MOMENTOS DE CRISE (INTERMITENCIAS NO SISTEMA) 08\n",
      "3 CONSIDERACOES FINAIS 09\n",
      "\n",
      "1 CRITERIOS DE AVALIACAO DO ATENDIMENTO\n",
      "INDICE DE ATENDIMENTO E CONCLUSAO: CONTAGEM DE LIGACOES RECEPTIVAS E ATIVAS + OCRS CONCLUIDAS NO MES;\n",
      "CORDIALIDADE: APRESENTACAO PESSOAL + ENERGIA E ENTUSIASMO + LINGUAJAR + SAUDACAO FINAL;\n",
      "EMPATIA (HUMANIZACAO): GRAU DE ENGAJAMENTO (INTERESSE EM RESOLVER O PROBLEMA, DEMONSTANDO PROATIVIDADE) + PACIENCIA + NAO DEIXAR O CLIENTE AGUARDANDO POR MUITO TEMPO EM SILENCIO;\n",
      "TAXA DE UPSEL / CROSS-SELL: OFERECER AO CLIENTE O NOVO CALLBOX (CASO ELE AINDA UTILIZE O ANTIGO) OU UM SERVICO ADICIONAL, COMO O NOSSO TI + SIMPLES;\n",
      "CONHECIMENTO TECNICO: EXPLICAR OS PROCEDIMENTOS REALIZADOS AOS CLIENTES + OFERECER INFORMACOES ADICIONAIS QUE AGREGUEM VALOR A EXPERIENCIA DO CLIENTE + TRANSMITIR CONFIANCA E CREDIBILIDADE;\n",
      "FIRST CALL RESOLUTION: RESOLUCAO NA PRIMEIRA CHAMADA;\n",
      "ESCRITA: ORTOGRAFIA + CLAREZA (INFORMACOES CLARAS E PADRAO DE ENCERRAMENTO) + OBJETIVIDADE (UTILIZAR OUTROS MEIOS DE CONTATO A FIM DE OTIMIZAR O ATENDIMENTO).\n",
      "\n",
      "2 ROTEIRO DE ATENDIMENTO\n",
      "\n",
      "2.1 ATENDIMENTO TELEFONICO\n",
      "Saudacao inicial (saudar o cliente com \"bom dia\", \"boa tarde\", apresentar- se, oferecer ajuda no inicio da ligacao (\"Como posso te ajudar, (nome do cliente)?\");\n",
      "Na ligacao ativa, apresentar-se (\"Bom dia, o meu nome e (diga seu nome), eu falo em nome da L5. O motivo do meu contato e...\") e perguntar se o cliente pode falar naquele momento;\n",
      "Desde o inicio da ligacao ser comunicativo, buscando o maximo de interacao;\n",
      "Demonstrar empatia e gentileza, escutando atentamente o que o cliente quer dizer;\n",
      "Caso a ligacao caia, ligue para o cliente logo em seguida. Caso nao consiga, busque outros canais de atendimento/alternativas de contato para reestabelecer a interacao e resolver o chamado. Lembrem-se: o interesse em resolver a solicitacao e nosso!\n",
      "Adaptar a comunicacao a abordagem do cliente, garantindo que ele entenda os vocabularios utilizados. Por isso, evitem o excesso de vocabularios tecnicos;\n",
      "Transmitir confianca e credibilidade ao cliente, mostrando evidencias ao afirmar algo, nao simplesmente dizer, por exemplo: \"O problema e com a sua operadora\" sem provar ao cliente de forma esclarecedora;\n",
      "Manter a paciencia diante de situacoes criticas e clientes nervosos;\n",
      "Estar atento aos detalhes. Ex: colocar a ligacao no mute caso precise interagir internamente, evitar que o cliente precise repetir informacoes ja ditas, atentar-se ao posicionamento do headset, evitando ruidos ocasionados pela respiracao etc.;\n",
      "Ser proativo, buscando alternativas para ajudar o cliente de alguma forma e buscando maneiras de exceder as expectativas;\n",
      "Jamais espere que o cliente sugira as alternativas de resolucao. Isso tambem demonstra falta de proatividade;\n",
      "Nao utilizar expressoes do tipo: \"Nao sei!\", \"Nao e possivel\", \"Nao da para fazer\". Em vez disso, cabe buscar internamente outras formas de resolucao;\n",
      "Caso seja necessaria uma analise mais aprofundada, perguntar se o cliente deseja aguardar em linha. Caso positivo, frequentemente, posiciona-lo sobre suas acoes, buscando manter o maximo de interacao;\n",
      "Tratar cada cliente com exclusividade e sem fazer acepcao de pessoas. Lembrar-se de que todas as ocorrencias sao importantes e merecem igual atencao e empatia;\n",
      "Manter a energia e entusiasmo na voz;\n",
      "Antes de se despedir, e preciso explicar os procedimentos realizados validar se realmente o problema foi resolvido, oferecer informacoes ou servicos adicionais e colocar-se a disposicao ao final do atendimento (Ex: \"Qualquer duvida, pode chamar novamente. Ate mais!\").\n",
      "\n",
      "\n",
      "2.2 ATENDIMENTO VIA E-MAIL\n",
      "Manter os principios de cordialidade, empatia e boa didatica p@r@ explicacao dos procedimentos (conhecimento tecnico) durante O atendimento via e-mail, assim como nos demais canais de atendimento;\n",
      "Demonstrar prontidao durante o atendimento, evitando trocar varios e- mails. Nessas situacoes, e preferivel ligar para o cliente e resolver de forma mais objetiva;\n",
      "Adaptar a comunicacao a abordagem do cliente, garantindo que ele entenda os vocabularios utilizados. Por isso, evitem o excesso de vocabularios tecnicos;\n",
      "Transmitir confianca e credibilidade ao cliente, mostrando evidencias ao afirmar algo, nao simplesmente dizer, por exemplo: \"O problema e com a sua operadora\" sem provar ao cliente de forma esclarecedora;\n",
      "Tratar cada cliente com exclusividade e sem fazer acepcao de pessoas. Lembrar-se de que todas as ocorrencias sao importantes e merecem igual atencao e empatia;\n",
      "Ser proativo, buscando alternativas para ajudar o cliente de alguma forma e buscando maneiras de exceder as expectativas;\n",
      "Jamais espere que o cliente sugira as alternativas de resolucao. Isso tambem demonstra falta de proatividade;\n",
      "Nao utilizar expressoes do tipo: \"Nao sei!\", \"Nao e possivel\", \"Nao da para fazer\". Em vez disso, cabe buscar internamente outras formas de resolucao;\n",
      "Caso o cliente pare de interagir, busque outros canais de atendimento/alternativas de contato para reestabelecer a interacao e resolver o chamado. Lembrem-se: o interesse em resolver a solicitacao e nosso!\n",
      "Estar atento aos detalhes, evitando que o cliente precise repetir informacoes ja ditas no inicio, por exemplo;\n",
      "Apos redigir os textos internos e externos, certifiquem-se de que nao ha erros ortograficos;\n",
      "Antes de se despedir, e preciso explicar os procedimentos realizados validar se realmente o problema foi resolvido, oferecer informacoes ou servicos adicionais e colocar-se a disposicao ao final do atendimento (Ex: \"Qualquer duvida, pode chamar novamente. Ate mais!\").\n",
      "Evidenciar a validacao do cliente e informar se a OCR foi realmente concluida;\n",
      "Todos os analistas devem seguir o padrao de abertura e encerramento das OCRs;\n",
      "Todos os analistas devem ser claros nos registros das OCRs, de forma que qualquer pessoa consiga compreender o historico de procedimentos realizados e o status atual do caso. E deve-se ficar claro se a OCR foi concluida.\n",
      "\n",
      "2.3 ATENDIMENTO VIA CHAT\n",
      "Manter os principios de cordialidade, empatia durante o atendimento via chat, assim como nos demais canais de atendimento;\n",
      "Tratar cada cliente com exclusividade e sem fazer acepcao de pessoas. Lembrar-se de que todas as ocorrencias sao importantes e merecem igual atencao e empatia;\n",
      "Demonstrar prontidao durante o atendimento e, quando necessario, ligar para o cliente a fim de resolver a solicitacao de forma mais objetiva;\n",
      "Adaptar a comunicacao a abordagem do cliente, garantindo que ele entenda os vocabularios utilizados. Por isso, evitem o excesso de vocabularios tecnicos;\n",
      "Nao utilizar expressoes do tipo: \"Nao sei!\", \"Nao e possivel\", \"Nao da para fazer\". Em vez disso, cabe buscar internamente outras formas de resolucao e maneiras de exceder as expectativas dos clientes;\n",
      "Jamais espere que o cliente sugira as alternativas de resolucao. Isso tambem demonstra falta de proatividade;\n",
      "Transmitir confianca e credibilidade ao cliente, mostrando evidencias ao afirmar algo, nao simplesmente dizer, por exemplo: \"O problema e com a sua operadora\" sem provar ao cliente de forma esclarecedora;\n",
      "Caso o cliente pare de interagir, busque outros canais de atendimento / alternativas de contato para reestabelecer a interacao e resolver o chamado. Lembrem-se: o interesse em resolver a solicitacao e nosso!\n",
      "Todos os analistas devem ser claros durante o atendimento, de forma que o cliente consiga compreender os procedimentos realizados;\n",
      "Apos redigir os textos, certifiquem-se de que nao ha erros ortograficos;\n",
      "Antes de se despedir, e preciso explicar os procedimentos realizados validar se realmente o problema foi resolvido, oferecer informacoes ou servicos adicionais e colocar-se a disposicao ao final do atendimento (Ex: \"Qualquer duvida, pode chamar novamente. Ate mais!\").\n",
      "\n",
      "2.4 ATENDIMENTO PRESENCIAL\n",
      "\n",
      "Entender a solicitacao/problema que ira atender;\n",
      "Estudar todas as possiveis solucoes;\n",
      "Buscar opinioes e sugestoes dos mentores/gestor;\n",
      "Certificar-se que esta com todas as ferramentas para a execucao do trabalho;\n",
      "Atentar-se com o horario programado para atender o cliente;\n",
      "Se houver imprevistos avisar imediatamente seu gestor;\n",
      "Atentar-se a aparencia (uniforme, cabelo, barba, higiene etc.);\n",
      "Manter os principios de cordialidade, empatia durante o atendimento presencial, assim como nos demais canais de atendimento;\n",
      "Tratar cada cliente com exclusividade e sem fazer acepcao de pessoas. Lembrar-se de que todas as ocorrencias sao importantes e merecem igual atencao e empatia;\n",
      "Boa comunicacao e entonacao de voz;\n",
      "Todos os analistas devem ser claros durante o atendimento, de forma que o cliente consiga compreender os procedimentos realizados;\n",
      "Adaptar a comunicacao a abordagem do cliente, garantindo que ele entenda os vocabularios utilizados. Por isso, evitem o excesso de vocabularios tecnicos;\n",
      "Nao utilizar expressoes do tipo: \"Nao sei!\", \"Nao e possivel\", \"Nao da para fazer\". Em vez disso, cabe buscar internamente outras formas de resolucao e maneiras de exceder as expectativas dos clientes;\n",
      "Jamais espere que o cliente sugira as alternativas de resolucao. Isso tambem demonstra falta de proatividade;\n",
      "Transmitir confianca e credibilidade ao cliente, mostrando evidencias ao afirmar algo, nao simplesmente dizer, por exemplo: \"O problema e com a sua operadora\" sem provar ao cliente de forma esclarecedora;\n",
      "Antes de se despedir, certificar-se de que nao fez \"bagunca\" no local. Caso tenha tirado algo do lugar, organize do jeito que encontrou;\n",
      "Antes de se despedir, e preciso explicar os procedimentos realizados validar se realmente o problema foi resolvido, oferecer informacoes ou servicos adicionais e colocar-se a disposicao ao final do atendimento (Ex: \"Qualquer duvida, pode chamar novamente. Ate mais!\").\n",
      "\n",
      "2.5 DICAS PARA MOMENTOS DE CRISE (INTERMITENCIAS NO SISTEMA)\n",
      "Cliente perguntou sobre a intermitencia -> Ser transparente. Ex: \"No momento, estamos avaliando a situacao e ainda nao temos uma previsao exata para o retorno do sistema. Entendemos que isso e importante para voce e estamos trabalhando continuamente para diagnosticar e corrigir o problema com urgencia.\"\n",
      "Mostre Empatia -> Ex:\"Compreendemos completamente como isso afeta suas operacoes e pedimos desculpas pelo transtorno. Estamos comprometidos em resolver isso o mais rapido possivel.\"\n",
      "Ofereca Informacoes Atualizad@s -> Mantenha o Canal de Comunicacao Aberto: \"Sinta-se a vontade para entrar em contato conosco a qualquer momento para obter mais informacoes ou se precisar de ajuda com algo mais.\"\n",
      "\n",
      "ATENCAO!: JAMAIS DIZER AO CLIENTE QUE HOUVE TENTATIVA DE INVASAO! BUSQUE SEMPRE TRANQUILIZA-LO. SEM CAUSAR MAIS DESESPERO.\n",
      "\n",
      "3 CONSIDERACOES FINAIS\n",
      "Em resumo, os analistas devem buscar exceder as expectativas dos clientes em todos os canais de atendimento, sendo simpaticos, educados, empaticos, dinamicos, proativos, comunicativos, pacientes, objetivos e claros na resolucao de problemas, transmitindo sempre credibilidade, disposicao e energia diante de qualquer situacao.\n",
      "\"A FIM DE NOS DESTACARMOS NA MISSAO DE \"LEVAR LIBERDADE E QUALIDADE DE VIDA AS PESSOAS, CRIANDO SOLUCOES PARA PRODUZIREM DE QUALQUER LUGAR\", VAMOS EXCEDER AS EXPECTATIVAS DOS NOSSOS CLIENTES, BUSCANDO FAZER SEMPRE DIFERENTE E MELHOR!!\"\n",
      "Qualidade e monitoria\n",
      "\n",
      "Trecho:\n",
      "Manual de Boas Praticas de Atendimento Suporte\n",
      "2024\n",
      "1o Edicao\n",
      "\n",
      "Indice\n",
      "1 CRITERIOS DE AVALIACAO DO ATENDIMENTO 01\n",
      "2 ROTEIRO DE ATENDIMENTO 02\n",
      "2.1 ATENDIMENTO TELEFONICO 03\n",
      "2.2 ATENDIMENTO VIA E-MAIL 04\n",
      "2.3 ATENDIMENTO VIA CHAT 05\n",
      "2.4 ATENDIMENTO PRESENCIAL 06\n",
      "2.5 DICAS PARA MOMENTOS DE CRISE (INTERMITENCIAS NO SISTEMA) 08\n",
      "3 CONSIDERACOES FINAIS 09\n",
      "\n",
      "1 CRITERIOS DE AVALIACAO DO ATENDIMENTO\n",
      "INDICE DE ATENDIMENTO E CONCLUSAO: CONTAGEM DE LIGACOES RECEPTIVAS E ATIVAS + OCRS CONCLUIDAS NO MES;\n",
      "CORDIALIDADE: APRESENTACAO PESSOAL + ENERGIA E ENTUSIASMO + LINGUAJAR + SAUDACAO FINAL;\n",
      "EMPATIA (HUMANIZACAO): GRAU DE ENGAJAMENTO (INTERESSE EM RESOLVER O PROBLEMA, DEMONSTANDO PROATIVIDADE) + PACIENCIA + NAO DEIXAR O CLIENTE AGUARDANDO POR MUITO TEMPO EM SILENCIO;\n",
      "TAXA DE UPSEL / CROSS-SELL: OFERECER AO CLIENTE O NOVO CALLBOX (CASO ELE AINDA UTILIZE O ANTIGO) OU UM SERVICO ADICIONAL, COMO O NOSSO TI + SIMPLES;\n",
      "CONHECIMENTO TECNICO: EXPLICAR OS PROCEDIMENTOS REALIZADOS AOS CLIENTES + OFERECER INFORMACOES ADICIONAIS QUE AGREGUEM VALOR A EXPERIENCIA DO CLIENTE + TRANSMITIR CONFIANCA E CREDIBILIDADE;\n",
      "FIRST CALL RESOLUTION: RESOLUCAO NA PRIMEIRA CHAMADA;\n",
      "ESCRITA: ORTOGRAFIA + CLAREZA (INFORMACOES CLARAS E PADRAO DE ENCERRAMENTO) + OBJETIVIDADE (UTILIZAR OUTROS MEIOS DE CONTATO A FIM DE OTIMIZAR O ATENDIMENTO).\n",
      "\n"
     ]
    },
    {
     "name": "stdin",
     "output_type": "stream",
     "text": [
      "Classificação (bom/ruim):  bom\n",
      "Justificativa (cite o manual):  Garante a eficiência na resolução de problemas, a satisfação do cliente através da empatia e comunicação clara, e a qualidade do serviço como um todo. Seguir esses padrões promove a imagem profissional da empresa e otimiza o tempo, tanto do cliente quanto do analista. Em resumo, profissionalismo, empatia e eficiência resultam em excelência no atendimento e fidelização do cliente.\n"
     ]
    },
    {
     "name": "stdout",
     "output_type": "stream",
     "text": [
      "--------------------\n",
      "Trecho:\n",
      "2 ROTEIRO DE ATENDIMENTO\n",
      "\n",
      "2.1 ATENDIMENTO TELEFONICO\n",
      "Saudacao inicial (saudar o cliente com \"bom dia\", \"boa tarde\", apresentar- se, oferecer ajuda no inicio da ligacao (\"Como posso te ajudar, (nome do cliente)?\n",
      "\n"
     ]
    },
    {
     "name": "stdin",
     "output_type": "stream",
     "text": [
      "Classificação (bom/ruim):  bom\n",
      "Justificativa (cite o manual):  Essa saudação inicial estruturada garante profissionalismo e acolhimento ao cliente, transmitindo prontidão e disposição para auxiliar. A apresentação e o oferecimento de ajuda imediato criam uma primeira impressão positiva e demonstram respeito pelo tempo do cliente. A saudação adequada (\"bom dia\",\"boa tarde\") demonstra cortesia e profissionalismo.\n"
     ]
    },
    {
     "name": "stdout",
     "output_type": "stream",
     "text": [
      "--------------------\n",
      "Trecho:\n",
      "\");\n",
      "Na ligacao ativa, apresentar-se (\"Bom dia, o meu nome e (diga seu nome), eu falo em nome da L5.\n",
      "\n"
     ]
    },
    {
     "name": "stdin",
     "output_type": "stream",
     "text": [
      "Classificação (bom/ruim):  bom\n",
      "Justificativa (cite o manual):  Na ligação ativa, a apresentação formal, incluindo a saudação e a identificação da empresa, estabelece profissionalismo e transparência. Informar o nome e a empresa demonstra responsabilidade e facilita a confiança do cliente na interação. A clareza desde o início evita mal-entendidos e otimiza o tempo da chamada.\n"
     ]
    },
    {
     "name": "stdout",
     "output_type": "stream",
     "text": [
      "--------------------\n",
      "Trecho:\n",
      "O motivo do meu contato e...\") e perguntar se o cliente pode falar naquele momento;\n",
      "Desde o inicio da ligacao ser comunicativo, buscando o maximo de interacao;\n",
      "Demonstrar empatia e gentileza, escutando atentamente o que o cliente quer dizer;\n",
      "Caso a ligacao caia, ligue para o cliente logo em seguida.\n",
      "\n"
     ]
    },
    {
     "name": "stdin",
     "output_type": "stream",
     "text": [
      "Classificação (bom/ruim):  bom\n",
      "Justificativa (cite o manual):  Informar o motivo do contato e confirmar a disponibilidade demonstra respeito pelo tempo e atenção do cliente. Manter a comunicação ativa e buscar interação desde o início gera um diálogo mais natural e produtivo, além de demonstrar proatividade. Empatia, gentileza e escuta atenta constroem um relacionamento positivo e ajudam na compreensão das necessidades do cliente. Retornar a ligação caso caia demonstra profissionalismo e compromisso com a resolução.\n"
     ]
    },
    {
     "name": "stdout",
     "output_type": "stream",
     "text": [
      "--------------------\n",
      "Trecho:\n",
      "Caso nao consiga, busque outros canais de atendimento/alternativas de contato para reestabelecer a interacao e resolver o chamado.\n",
      "\n"
     ]
    },
    {
     "name": "stdin",
     "output_type": "stream",
     "text": [
      "Classificação (bom/ruim):  bom\n",
      "Justificativa (cite o manual):  Buscar outros canais de atendimento caso a ligação caia demonstra proatividade e foco na resolução, garantindo que o cliente não seja ignorado. A persistência em reestabelecer o contato reforça o compromisso da empresa com a satisfação do cliente. Explorar alternativas demonstra flexibilidade e proatividade na busca pela melhor solução.\n"
     ]
    },
    {
     "name": "stdout",
     "output_type": "stream",
     "text": [
      "--------------------\n",
      "Trecho:\n",
      "Lembrem-se: o interesse em resolver a solicitacao e nosso!\n",
      "\n"
     ]
    },
    {
     "name": "stdin",
     "output_type": "stream",
     "text": [
      "Classificação (bom/ruim):  bom\n",
      "Justificativa (cite o manual):  Reforçar que o interesse em resolver a solicitação é da empresa demonstra proatividade, responsabilidade e compromisso com a satisfação do cliente. Essa frase transmite segurança e confiança ao cliente, mostrando que a empresa se importa com suas necessidades e fará o possível para ajudá-lo. A responsabilidade pela resolução é assumida pela empresa, aliviando a pressão sobre o cliente.\n"
     ]
    },
    {
     "name": "stdout",
     "output_type": "stream",
     "text": [
      "--------------------\n",
      "Trecho:\n",
      "Adaptar a comunicacao a abordagem do cliente, garantindo que ele entenda os vocabularios utilizados.\n",
      "\n"
     ]
    },
    {
     "name": "stdin",
     "output_type": "stream",
     "text": [
      "Classificação (bom/ruim):  bom\n",
      "Justificativa (cite o manual):  Adaptar a comunicação à abordagem do cliente, assegurando a compreensão do vocabulário, demonstra empatia e respeito, facilitando o diálogo e a construção de um relacionamento positivo. A clareza na comunicação evita mal-entendidos e frustrações, otimizando o tempo de atendimento e a resolução do problema. Personalizar a linguagem à necessidade de cada cliente torna o atendimento mais eficiente e humanizado.\n"
     ]
    },
    {
     "name": "stdout",
     "output_type": "stream",
     "text": [
      "--------------------\n",
      "Trecho:\n",
      "Por isso, evitem o excesso de vocabularios tecnicos;\n",
      "Transmitir confianca e credibilidade ao cliente, mostrando evidencias ao afirmar algo, nao simplesmente dizer, por exemplo: \"O problema e com a sua operadora\" sem provar ao cliente de forma esclarecedora;\n",
      "Manter a paciencia diante de situacoes criticas e clientes nervosos;\n",
      "Estar atento aos detalhes.\n",
      "\n"
     ]
    },
    {
     "name": "stdin",
     "output_type": "stream",
     "text": [
      "Classificação (bom/ruim):  bom\n",
      "Justificativa (cite o manual):  Evitar jargões técnicos demonstra consideração pelo cliente e facilita a compreensão, tornando a comunicação mais acessível. Evidenciar afirmações com provas transmite confiança e credibilidade, mostrando profissionalismo e respeito pelo cliente. Paciência em situações críticas e com clientes nervosos é fundamental para manter a calma e conduzir o atendimento de forma profissional e eficaz. Atenção aos detalhes demonstra cuidado, zelo e personalização no atendimento, além de prevenir erros e otimizar a resolução.\n"
     ]
    },
    {
     "name": "stdout",
     "output_type": "stream",
     "text": [
      "--------------------\n",
      "Trecho:\n",
      "Ex: colocar a ligacao no mute caso precise interagir internamente, evitar que o cliente precise repetir informacoes ja ditas, atentar-se ao posicionamento do headset, evitando ruidos ocasionados pela respiracao etc.\n",
      "\n"
     ]
    },
    {
     "name": "stdin",
     "output_type": "stream",
     "text": [
      "Classificação (bom/ruim):  bom\n",
      "Justificativa (cite o manual):  Demonstra profissionalismo e respeito ao tempo do cliente, evitando que ele repita informações desnecessariamente e garantindo uma comunicação clara sem interferências sonoras. O uso adequado do mute durante interações internas preserva a qualidade do atendimento e passa maior credibilidade, enquanto o cuidado com o posicionamento do headset previne ruídos desagradáveis que poderiam prejudicar a experiência do cliente durante a chamada.\n"
     ]
    },
    {
     "name": "stdout",
     "output_type": "stream",
     "text": [
      "--------------------\n",
      "Trecho:\n",
      ";\n",
      "Ser proativo, buscando alternativas para ajudar o cliente de alguma forma e buscando maneiras de exceder as expectativas;\n",
      "Jamais espere que o cliente sugira as alternativas de resolucao.\n",
      "\n"
     ]
    },
    {
     "name": "stdin",
     "output_type": "stream",
     "text": [
      "Classificação (bom/ruim):  bom\n",
      "Justificativa (cite o manual):  Esta conduta é exemplar pois coloca o profissional em uma posição de liderança na resolução, antecipando-se às necessidades do cliente e buscando ativamente soluções antes mesmo que sejam solicitadas. A proatividade em exceder expectativas não só resolve o problema imediato, mas também fortalece a relação com o cliente, gerando satisfação e confiança. Além disso, ao tomar a iniciativa de propor soluções, o atendente demonstra competência e comprometimento com a qualidade do serviço.\n"
     ]
    },
    {
     "name": "stdout",
     "output_type": "stream",
     "text": [
      "--------------------\n",
      "Trecho:\n",
      "Isso tambem demonstra falta de proatividade;\n",
      "Nao utilizar expressoes do tipo: \"Nao sei!\n",
      "\n"
     ]
    },
    {
     "name": "stdin",
     "output_type": "stream",
     "text": [
      "Classificação (bom/ruim):  bom\n",
      "Justificativa (cite o manual):  Estas orientações ajudam a manter um atendimento mais profissional e focado na solução, evitando transferir inseguranças ou complexidades técnicas para o cliente.\n"
     ]
    },
    {
     "name": "stdout",
     "output_type": "stream",
     "text": [
      "--------------------\n",
      "Trecho:\n",
      "\", \"Nao e possivel\", \"Nao da para fazer\".\n",
      "\n"
     ]
    },
    {
     "name": "stdin",
     "output_type": "stream",
     "text": [
      "Classificação (bom/ruim):  ruim\n",
      "Justificativa (cite o manual):  Estas expressões são ruins pois transmitem negatividade e falta de empenho em buscar soluções, desencorajando o cliente e encerrando prematuramente possibilidades de resolução. Além disso, o uso de frases definitivamente negativas como \\\"Não é possível\\\" pode frustrar o cliente e prejudicar a credibilidade do atendimento, quando o ideal seria manter uma comunicação mais construtiva e focada em alternativas.\n"
     ]
    },
    {
     "name": "stdout",
     "output_type": "stream",
     "text": [
      "--------------------\n",
      "Trecho:\n",
      "Em vez disso, cabe buscar internamente outras formas de resolucao;\n",
      "Caso seja necessaria uma analise mais aprofundada, perguntar se o cliente deseja aguardar em linha.\n",
      "\n"
     ]
    },
    {
     "name": "stdin",
     "output_type": "stream",
     "text": [
      "Classificação (bom/ruim):  bom\n",
      "Justificativa (cite o manual):  Esta conduta é positiva pois promove uma abordagem orientada a soluções, buscando ativamente alternativas antes de descartar possibilidades. A prática de consultar o cliente sobre sua preferência em aguardar demonstra respeito ao seu tempo e transparência no processo de atendimento, mantendo-o envolvido na resolução do caso.\n"
     ]
    },
    {
     "name": "stdout",
     "output_type": "stream",
     "text": [
      "--------------------\n",
      "Trecho:\n",
      "Caso positivo, frequentemente, posiciona-lo sobre suas acoes, buscando manter o maximo de interacao;\n",
      "Tratar cada cliente com exclusividade e sem fazer acepcao de pessoas.\n",
      "\n"
     ]
    },
    {
     "name": "stdin",
     "output_type": "stream",
     "text": [
      "Classificação (bom/ruim):  bom\n",
      "Justificativa (cite o manual):  Esta conduta é positiva pois enfatiza dois aspectos fundamentais do atendimento de qualidade: manter o cliente informado sobre o progresso do seu caso, demonstrando transparência e consideração, e garantir um tratamento igualitário e exclusivo para todos os clientes, sem discriminação ou favoritismo. A comunicação frequente durante a espera e o tratamento imparcial criam uma experiência profissional e respeitosa.\n"
     ]
    },
    {
     "name": "stdout",
     "output_type": "stream",
     "text": [
      "--------------------\n",
      "Trecho:\n",
      "Lembrar-se de que todas as ocorrencias sao importantes e merecem igual atencao e empatia;\n",
      "Manter a energia e entusiasmo na voz;\n",
      "Antes de se despedir, e preciso explicar os procedimentos realizados validar se realmente o problema foi resolvido, oferecer informacoes ou servicos adicionais e colocar-se a disposicao ao final do atendimento (Ex: \"Qualquer duvida, pode chamar novamente.\n",
      "\n"
     ]
    },
    {
     "name": "stdin",
     "output_type": "stream",
     "text": [
      "Classificação (bom/ruim):  bom\n",
      "Justificativa (cite o manual):  Este trecho destaca três práticas essenciais: tratar todas as demandas com igual importância, manter entusiasmo no atendimento, e fazer um fechamento completo confirmando a satisfação do cliente.\n"
     ]
    },
    {
     "name": "stdout",
     "output_type": "stream",
     "text": [
      "--------------------\n",
      "Trecho:\n",
      "2.2 ATENDIMENTO VIA E-MAIL\n",
      "Manter os principios de cordialidade, empatia e boa didatica p@r@ explicacao dos procedimentos (conhecimento tecnico) durante O atendimento via e-mail, assim como nos demais canais de atendimento;\n",
      "Demonstrar prontidao durante o atendimento, evitando trocar varios e- mails.\n",
      "\n"
     ]
    },
    {
     "name": "stdin",
     "output_type": "stream",
     "text": [
      "Classificação (bom/ruim):  bom\n",
      "Justificativa (cite o manual):  Manter cordialidade, empatia e boa didática durante o atendimento via e-mail e outros canais é positivo porque melhora a compreensão do cliente, aumenta a satisfação e fortalece a imagem profissional da empresa. Demonstrar prontidão evita trocas desnecessárias de e-mails, otimizando o tempo e a eficiência do atendimento.\n"
     ]
    },
    {
     "name": "stdout",
     "output_type": "stream",
     "text": [
      "--------------------\n",
      "Trecho:\n",
      "Nessas situacoes, e preferivel ligar para o cliente e resolver de forma mais objetiva;\n",
      "Adaptar a comunicacao a abordagem do cliente, garantindo que ele entenda os vocabularios utilizados.\n",
      "\n"
     ]
    },
    {
     "name": "stdin",
     "output_type": "stream",
     "text": [
      "Classificação (bom/ruim):  bom\n",
      "Justificativa (cite o manual):  Demonstra prontidão em atender, respeito e empatia com o cliente.\n"
     ]
    },
    {
     "name": "stdout",
     "output_type": "stream",
     "text": [
      "--------------------\n",
      "Trecho:\n",
      "Por isso, evitem o excesso de vocabularios tecnicos;\n",
      "Transmitir confianca e credibilidade ao cliente, mostrando evidencias ao afirmar algo, nao simplesmente dizer, por exemplo: \"O problema e com a sua operadora\" sem provar ao cliente de forma esclarecedora;\n",
      "Tratar cada cliente com exclusividade e sem fazer acepcao de pessoas.\n",
      "\n"
     ]
    },
    {
     "name": "stdin",
     "output_type": "stream",
     "text": [
      "Classificação (bom/ruim):  bom\n",
      "Justificativa (cite o manual):  Evitar jargões técnicos demonstra consideração pelo cliente e facilita a compreensão, tornando a comunicação mais acessível. Evidenciar afirmações com provas transmite confiança e credibilidade, mostrando profissionalismo e respeito pelo cliente. Paciência em situações críticas e com clientes nervosos é fundamental para manter a calma e conduzir o atendimento de forma profissional e eficaz. Atenção aos detalhes demonstra cuidado, zelo e personalização no atendimento, além de prevenir erros e otimizar a resolução.\n"
     ]
    },
    {
     "name": "stdout",
     "output_type": "stream",
     "text": [
      "--------------------\n",
      "Trecho:\n",
      "Lembrar-se de que todas as ocorrencias sao importantes e merecem igual atencao e empatia;\n",
      "Ser proativo, buscando alternativas para ajudar o cliente de alguma forma e buscando maneiras de exceder as expectativas;\n",
      "Jamais espere que o cliente sugira as alternativas de resolucao.\n",
      "\n"
     ]
    },
    {
     "name": "stdin",
     "output_type": "stream",
     "text": [
      "Classificação (bom/ruim):  bom\n",
      "Justificativa (cite o manual):  Este trecho destaca três práticas essenciais: tratar todas as demandas com igual importância, manter entusiasmo no atendimento, e fazer um fechamento completo confirmando a satisfação do cliente. Justificativa (cite o manual):  Este trecho destaca três práticas essenciais: tratar todas as demandas com igual importância, manter entusiasmo no atendimento, e fazer um fechamento completo confirmando a satisfação do cliente.\n"
     ]
    },
    {
     "name": "stdout",
     "output_type": "stream",
     "text": [
      "--------------------\n",
      "Trecho:\n",
      "Isso tambem demonstra falta de proatividade;\n",
      "Nao utilizar expressoes do tipo: \"Nao sei!\n",
      "\n"
     ]
    },
    {
     "name": "stdin",
     "output_type": "stream",
     "text": [
      "Classificação (bom/ruim):  bom\n",
      "Justificativa (cite o manual):  Estas orientações ajudam a manter um atendimento mais profissional e focado na solução, evitando transferir inseguranças ou complexidades técnicas para o cliente.\n"
     ]
    },
    {
     "name": "stdout",
     "output_type": "stream",
     "text": [
      "--------------------\n",
      "Trecho:\n",
      "\", \"Nao e possivel\", \"Nao da para fazer\".\n",
      "\n"
     ]
    },
    {
     "name": "stdin",
     "output_type": "stream",
     "text": [
      "Classificação (bom/ruim):  ruim\n",
      "Justificativa (cite o manual):  Estas expressões são ruins pois transmitem negatividade e falta de empenho em buscar soluções, desencorajando o cliente e encerrando prematuramente possibilidades de resolução. Além disso, o uso de frases definitivamente negativas como \\\"Não é possível\\\" pode frustrar o cliente e prejudicar a credibilidade do atendimento, quando o ideal seria manter uma comunicação mais construtiva e focada em alternativas.\n"
     ]
    },
    {
     "name": "stdout",
     "output_type": "stream",
     "text": [
      "--------------------\n",
      "Trecho:\n",
      "Em vez disso, cabe buscar internamente outras formas de resolucao;\n",
      "Caso o cliente pare de interagir, busque outros canais de atendimento/alternativas de contato para reestabelecer a interacao e resolver o chamado.\n",
      "\n"
     ]
    },
    {
     "name": "stdin",
     "output_type": "stream",
     "text": [
      "Classificação (bom/ruim):  bom\n",
      "Justificativa (cite o manual):  Esta conduta é positiva pois promove uma abordagem orientada a soluções, buscando ativamente alternativas antes de descartar possibilidades. A prática de consultar o cliente sobre sua preferência em aguardar demonstra respeito ao seu tempo e transparência no processo de atendimento, mantendo-o envolvido na resolução do caso.\n"
     ]
    },
    {
     "name": "stdout",
     "output_type": "stream",
     "text": [
      "--------------------\n",
      "Trecho:\n",
      "Lembrem-se: o interesse em resolver a solicitacao e nosso!\n",
      "\n"
     ]
    },
    {
     "name": "stdin",
     "output_type": "stream",
     "text": [
      "Classificação (bom/ruim):  bom\n",
      "Justificativa (cite o manual):  Reforçar que o interesse em resolver a solicitação é da empresa demonstra proatividade, responsabilidade e compromisso com a satisfação do cliente. Essa frase transmite segurança e confiança ao cliente, mostrando que a empresa se importa com suas necessidades e fará o possível para ajudá-lo. A responsabilidade pela resolução é assumida pela empresa, aliviando a pressão sobre o cliente.\n"
     ]
    },
    {
     "name": "stdout",
     "output_type": "stream",
     "text": [
      "--------------------\n",
      "Trecho:\n",
      "Estar atento aos detalhes, evitando que o cliente precise repetir informacoes ja ditas no inicio, por exemplo;\n",
      "Apos redigir os textos internos e externos, certifiquem-se de que nao ha erros ortograficos;\n",
      "Antes de se despedir, e preciso explicar os procedimentos realizados validar se realmente o problema foi resolvido, oferecer informacoes ou servicos adicionais e colocar-se a disposicao ao final do atendimento (Ex: \"Qualquer duvida, pode chamar novamente.\n",
      "\n"
     ]
    },
    {
     "name": "stdin",
     "output_type": "stream",
     "text": [
      "Classificação (bom/ruim):  bom\n",
      "Justificativa (cite o manual):  Demonstra preocupação com a experiência do cliente, prezando pela eficiência (evitando repetições e erros) e pela proatividade (explicando procedimentos, oferecendo adicionais e disponibilizando-se para futuras dúvidas). Essas ações contribuem para a satisfação e fidelização do cliente, demonstrando um atendimento completo e atencioso. Em resumo, o texto descreve práticas que visam um atendimento de excelência.\n"
     ]
    },
    {
     "name": "stdout",
     "output_type": "stream",
     "text": [
      "--------------------\n",
      "Trecho:\n",
      "Evidenciar a validacao do cliente e informar se a OCR foi realmente concluida;\n",
      "Todos os analistas devem seguir o padrao de abertura e encerramento das OCRs;\n",
      "Todos os analistas devem ser claros nos registros das OCRs, de forma que qualquer pessoa consiga compreender o historico de procedimentos realizados e o status atual do caso.\n",
      "\n"
     ]
    },
    {
     "name": "stdin",
     "output_type": "stream",
     "text": [
      "Classificação (bom/ruim):  bom\n",
      "Justificativa (cite o manual):  Este trecho é positivo por descrever práticas que promovem padronização, clareza e organização no processo de OCR. A validação pelo cliente assegura a qualidade do trabalho, enquanto registros claros e padronizados facilitam a comunicação, o acompanhamento e a resolução de problemas, otimizando o fluxo de trabalho. Isso contribui para maior eficiência e transparência na operação.\n"
     ]
    },
    {
     "name": "stdout",
     "output_type": "stream",
     "text": [
      "--------------------\n",
      "Trecho:\n",
      "E deve-se ficar claro se a OCR foi concluida.\n",
      "\n"
     ]
    },
    {
     "name": "stdin",
     "output_type": "stream",
     "text": [
      "Classificação (bom/ruim):  bom\n",
      "Justificativa (cite o manual):  A clareza na comunicação é essencial para a otimização do atendimento.\n"
     ]
    },
    {
     "name": "stdout",
     "output_type": "stream",
     "text": [
      "--------------------\n",
      "Trecho:\n",
      "2.3 ATENDIMENTO VIA CHAT\n",
      "Manter os principios de cordialidade, empatia durante o atendimento via chat, assim como nos demais canais de atendimento;\n",
      "Tratar cada cliente com exclusividade e sem fazer acepcao de pessoas.\n",
      "\n"
     ]
    },
    {
     "name": "stdin",
     "output_type": "stream",
     "text": [
      "Classificação (bom/ruim):  bom\n",
      "Justificativa (cite o manual):  Esta conduta é positiva pois enfatiza dois aspectos fundamentais do atendimento de qualidade: manter o cliente informado sobre o progresso do seu caso, demonstrando transparência e consideração, e garantir um tratamento igualitário e exclusivo para todos os clientes, sem discriminação ou favoritismo. A comunicação frequente durante a espera e o tratamento imparcial criam uma experiência profissional e respeitosa.\n"
     ]
    },
    {
     "name": "stdout",
     "output_type": "stream",
     "text": [
      "--------------------\n",
      "Trecho:\n",
      "Lembrar-se de que todas as ocorrencias sao importantes e merecem igual atencao e empatia;\n",
      "Demonstrar prontidao durante o atendimento e, quando necessario, ligar para o cliente a fim de resolver a solicitacao de forma mais objetiva;\n",
      "Adaptar a comunicacao a abordagem do cliente, garantindo que ele entenda os vocabularios utilizados.\n",
      "\n"
     ]
    },
    {
     "name": "stdin",
     "output_type": "stream",
     "text": [
      "Classificação (bom/ruim):  bom\n",
      "Justificativa (cite o manual):  Este trecho destaca três práticas essenciais: tratar todas as demandas com igual importância, manter entusiasmo no atendimento, e fazer um fechamento completo confirmando a satisfação do cliente. Justificativa (cite o manual):  Este trecho destaca três práticas essenciais: tratar todas as demandas com igual importância, manter entusiasmo no atendimento, e fazer um fechamento completo confirmando a satisfação do cliente.\n"
     ]
    },
    {
     "name": "stdout",
     "output_type": "stream",
     "text": [
      "--------------------\n",
      "Trecho:\n",
      "Por isso, evitem o excesso de vocabularios tecnicos;\n",
      "Nao utilizar expressoes do tipo: \"Nao sei!\n",
      "\n"
     ]
    },
    {
     "name": "stdin",
     "output_type": "stream",
     "text": [
      "Classificação (bom/ruim):  bom\n",
      "Justificativa (cite o manual):  Estas orientações ajudam a manter um atendimento mais profissional e focado na solução, evitando transferir inseguranças ou complexidades técnicas para o cliente.\n"
     ]
    },
    {
     "name": "stdout",
     "output_type": "stream",
     "text": [
      "--------------------\n",
      "Trecho:\n",
      "\", \"Nao e possivel\", \"Nao da para fazer\".\n",
      "\n"
     ]
    },
    {
     "name": "stdin",
     "output_type": "stream",
     "text": [
      "Classificação (bom/ruim):  ruim\n",
      "Justificativa (cite o manual):  Estas expressões são ruins pois transmitem negatividade e falta de empenho em buscar soluções, desencorajando o cliente e encerrando prematuramente possibilidades de resolução. Além disso, o uso de frases definitivamente negativas como \\\"Não é possível\\\" pode frustrar o cliente e prejudicar a credibilidade do atendimento, quando o ideal seria manter uma comunicação mais construtiva e focada em alternativas.\n"
     ]
    },
    {
     "name": "stdout",
     "output_type": "stream",
     "text": [
      "--------------------\n",
      "Trecho:\n",
      "Em vez disso, cabe buscar internamente outras formas de resolucao e maneiras de exceder as expectativas dos clientes;\n",
      "Jamais espere que o cliente sugira as alternativas de resolucao.\n",
      "\n"
     ]
    },
    {
     "name": "stdin",
     "output_type": "stream",
     "text": [
      "Classificação (bom/ruim):  bom\n",
      "Justificativa (cite o manual):  Esta conduta é positiva pois promove uma abordagem orientada a soluções, buscando ativamente alternativas antes de descartar possibilidades. A prática de consultar o cliente sobre sua preferência em aguardar demonstra respeito ao seu tempo e transparência no processo de atendimento, mantendo-o envolvido na resolução do caso.\n"
     ]
    },
    {
     "name": "stdout",
     "output_type": "stream",
     "text": [
      "--------------------\n",
      "Trecho:\n",
      "Isso tambem demonstra falta de proatividade;\n",
      "Transmitir confianca e credibilidade ao cliente, mostrando evidencias ao afirmar algo, nao simplesmente dizer, por exemplo: \"O problema e com a sua operadora\" sem provar ao cliente de forma esclarecedora;\n",
      "Caso o cliente pare de interagir, busque outros canais de atendimento / alternativas de contato para reestabelecer a interacao e resolver o chamado.\n",
      "\n"
     ]
    },
    {
     "name": "stdin",
     "output_type": "stream",
     "text": [
      "Classificação (bom/ruim):  bom\n",
      "Justificativa (cite o manual):  Estas orientações ajudam a manter um atendimento mais profissional e focado na solução, evitando transferir inseguranças ou complexidades técnicas para o cliente.\n"
     ]
    },
    {
     "name": "stdout",
     "output_type": "stream",
     "text": [
      "--------------------\n",
      "Trecho:\n",
      "Lembrem-se: o interesse em resolver a solicitacao e nosso!\n",
      "\n"
     ]
    },
    {
     "name": "stdin",
     "output_type": "stream",
     "text": [
      "Classificação (bom/ruim):  bom\n",
      "Justificativa (cite o manual):  Demonstra responsabilidade e compromisso com a resolução do problema do cliente.\n"
     ]
    },
    {
     "name": "stdout",
     "output_type": "stream",
     "text": [
      "--------------------\n",
      "Trecho:\n",
      "Todos os analistas devem ser claros durante o atendimento, de forma que o cliente consiga compreender os procedimentos realizados;\n",
      "Apos redigir os textos, certifiquem-se de que nao ha erros ortograficos;\n",
      "Antes de se despedir, e preciso explicar os procedimentos realizados validar se realmente o problema foi resolvido, oferecer informacoes ou servicos adicionais e colocar-se a disposicao ao final do atendimento (Ex: \"Qualquer duvida, pode chamar novamente.\n",
      "\n"
     ]
    },
    {
     "name": "stdin",
     "output_type": "stream",
     "text": [
      "Classificação (bom/ruim):  bom\n",
      "Justificativa (cite o manual):  Demonstra preocupação com a experiência do cliente, prezando pela eficiência (evitando repetições e erros) e pela proatividade (explicando procedimentos, oferecendo adicionais e disponibilizando-se para futuras dúvidas). Essas ações contribuem para a satisfação e fidelização do cliente, demonstrando um atendimento completo e atencioso. Em resumo, o texto descreve práticas que visam um atendimento de excelência. Justificativa (cite o manual):   demonstra preocupação com a experiência do cliente, prezando pela eficiência (evitando repetições e erros) e pela proatividade (explicando procedimentos, oferecendo adicionais e disponibilizando-se para futuras dúvidas). Essas ações contribuem para a satisfação e fidelização do cliente, demonstrando um atendimento completo e atencioso. Em resumo, o texto descreve práticas que visam um atendimento de excelência.\n"
     ]
    },
    {
     "name": "stdout",
     "output_type": "stream",
     "text": [
      "--------------------\n",
      "Trecho:\n",
      "2.4 ATENDIMENTO PRESENCIAL\n",
      "\n",
      "Entender a solicitacao/problema que ira atender;\n",
      "Estudar todas as possiveis solucoes;\n",
      "Buscar opinioes e sugestoes dos mentores/gestor;\n",
      "Certificar-se que esta com todas as ferramentas para a execucao do trabalho;\n",
      "Atentar-se com o horario programado para atender o cliente;\n",
      "Se houver imprevistos avisar imediatamente seu gestor;\n",
      "Atentar-se a aparencia (uniforme, cabelo, barba, higiene etc.\n",
      "\n"
     ]
    },
    {
     "name": "stdin",
     "output_type": "stream",
     "text": [
      "Classificação (bom/ruim):  bom\n",
      "Justificativa (cite o manual):  Demonstra dedicação, foco, interesse em resolver a solicitação da melhor forma possível, organização, comprometimento e atenção aos detalhes.\n"
     ]
    },
    {
     "name": "stdout",
     "output_type": "stream",
     "text": [
      "--------------------\n",
      "Trecho:\n",
      ");\n",
      "Manter os principios de cordialidade, empatia durante o atendimento presencial, assim como nos demais canais de atendimento;\n",
      "Tratar cada cliente com exclusividade e sem fazer acepcao de pessoas.\n",
      "\n"
     ]
    },
    {
     "name": "stdin",
     "output_type": "stream",
     "text": [
      "Classificação (bom/ruim):  bom\n",
      "Justificativa (cite o manual):  Enfatiza a importância da cordialidade e empatia no atendimento ao cliente, promovendo uma experiência positiva. Ele destaca o tratamento exclusivo de cada cliente, valorizando sua individualidade. Além disso, menciona a necessidade de não fazer acepção de pessoas, garantindo um atendimento justo e inclusivo.\n"
     ]
    },
    {
     "name": "stdout",
     "output_type": "stream",
     "text": [
      "--------------------\n",
      "Trecho:\n",
      "Lembrar-se de que todas as ocorrencias sao importantes e merecem igual atencao e empatia;\n",
      "Boa comunicacao e entonacao de voz;\n",
      "Todos os analistas devem ser claros durante o atendimento, de forma que o cliente consiga compreender os procedimentos realizados;\n",
      "Adaptar a comunicacao a abordagem do cliente, garantindo que ele entenda os vocabularios utilizados.\n",
      "\n"
     ]
    },
    {
     "name": "stdin",
     "output_type": "stream",
     "text": [
      "Classificação (bom/ruim):  bom\n",
      "Justificativa (cite o manual):  Este trecho destaca três práticas essenciais: tratar todas as demandas com igual importância, manter entusiasmo no atendimento, e fazer um fechamento completo confirmando a satisfação do cliente. Justificativa (cite o manual):  Este trecho destaca três práticas essenciais: tratar todas as demandas com igual importância, manter entusiasmo no atendimento, e fazer um fechamento completo confirmando a satisfação do cliente.\n"
     ]
    },
    {
     "name": "stdout",
     "output_type": "stream",
     "text": [
      "--------------------\n",
      "Trecho:\n",
      "Por isso, evitem o excesso de vocabularios tecnicos;\n",
      "Nao utilizar expressoes do tipo: \"Nao sei!\n",
      "\n"
     ]
    },
    {
     "name": "stdin",
     "output_type": "stream",
     "text": [
      "Classificação (bom/ruim):  bom\n",
      "Justificativa (cite o manual):  Estas orientações ajudam a manter um atendimento mais profissional e focado na solução, evitando transferir inseguranças ou complexidades técnicas para o cliente.\n"
     ]
    },
    {
     "name": "stdout",
     "output_type": "stream",
     "text": [
      "--------------------\n",
      "Trecho:\n",
      "\", \"Nao e possivel\", \"Nao da para fazer\".\n",
      "\n"
     ]
    },
    {
     "name": "stdin",
     "output_type": "stream",
     "text": [
      "Classificação (bom/ruim):  ruim\n",
      "Justificativa (cite o manual):  Estas expressões são ruins pois transmitem negatividade e falta de empenho em buscar soluções, desencorajando o cliente e encerrando prematuramente possibilidades de resolução. Além disso, o uso de frases definitivamente negativas como \\\"Não é possível\\\" pode frustrar o cliente e prejudicar a credibilidade do atendimento, quando o ideal seria manter uma comunicação mais construtiva e focada em alternativas.\n"
     ]
    },
    {
     "name": "stdout",
     "output_type": "stream",
     "text": [
      "--------------------\n",
      "Trecho:\n",
      "Em vez disso, cabe buscar internamente outras formas de resolucao e maneiras de exceder as expectativas dos clientes;\n",
      "Jamais espere que o cliente sugira as alternativas de resolucao.\n",
      "\n"
     ]
    },
    {
     "name": "stdin",
     "output_type": "stream",
     "text": [
      "Classificação (bom/ruim):  bom\n",
      "Justificativa (cite o manual):  Esta conduta é positiva pois promove uma abordagem orientada a soluções, buscando ativamente alternativas antes de descartar possibilidades. A prática de consultar o cliente sobre sua preferência em aguardar demonstra respeito ao seu tempo e transparência no processo de atendimento, mantendo-o envolvido na resolução do caso.\n"
     ]
    },
    {
     "name": "stdout",
     "output_type": "stream",
     "text": [
      "--------------------\n",
      "Trecho:\n",
      "Isso tambem demonstra falta de proatividade;\n",
      "Transmitir confianca e credibilidade ao cliente, mostrando evidencias ao afirmar algo, nao simplesmente dizer, por exemplo: \"O problema e com a sua operadora\" sem provar ao cliente de forma esclarecedora;\n",
      "Antes de se despedir, certificar-se de que nao fez \"bagunca\" no local.\n",
      "\n"
     ]
    },
    {
     "name": "stdin",
     "output_type": "stream",
     "text": [
      "Classificação (bom/ruim):  bom\n",
      "Justificativa (cite o manual):  O trecho é positivo porque enfatiza a importância da proatividade no atendimento, que melhora a experiência do cliente. Reforçar essa conduta ajuda a construir confiança e credibilidade ao fornecer informações claras e fundamentadas. Além disso, cuidar do ambiente antes de se despedir demonstra respeito e atenção aos detalhes, contribuindo para uma imagem positiva da empresa.\n"
     ]
    },
    {
     "name": "stdout",
     "output_type": "stream",
     "text": [
      "--------------------\n",
      "Trecho:\n",
      "Caso tenha tirado algo do lugar, organize do jeito que encontrou;\n",
      "Antes de se despedir, e preciso explicar os procedimentos realizados validar se realmente o problema foi resolvido, oferecer informacoes ou servicos adicionais e colocar-se a disposicao ao final do atendimento (Ex: \"Qualquer duvida, pode chamar novamente.\n",
      "\n"
     ]
    },
    {
     "name": "stdin",
     "output_type": "stream",
     "text": [
      "Classificação (bom/ruim):  bom\n",
      "Justificativa (cite o manual):  Esse trecho é considerado positivo porque destaca a importância de deixar o ambiente organizado, refletindo cuidado e respeito pelo espaço do cliente. Além disso, enfatiza a necessidade de explicar os procedimentos realizados e validar a resolução do problema, o que aumenta a transparência e a confiança. Oferecer informações ou serviços adicionais e colocar-se à disposição demonstra um compromisso contínuo com a satisfação do cliente, promovendo um atendimento de qualidade.\n"
     ]
    },
    {
     "name": "stdout",
     "output_type": "stream",
     "text": [
      "--------------------\n",
      "Trecho:\n",
      "2.5 DICAS PARA MOMENTOS DE CRISE (INTERMITENCIAS NO SISTEMA)\n",
      "Cliente perguntou sobre a intermitencia -> Ser transparente.\n",
      "\n"
     ]
    },
    {
     "name": "stdin",
     "output_type": "stream",
     "text": [
      "Classificação (bom/ruim):  bom\n",
      "Justificativa (cite o manual):  Esse trecho é positivo porque enfatiza a importância da transparência durante momentos de crise, como intermitências no sistema. Ser transparente com o cliente ajuda a construir confiança, pois demonstra que a empresa está disposta a comunicar a verdade, mesmo em situações desafiadoras. Essa abordagem pode mitigar a frustração do cliente e reforçar a credibilidade da empresa, mostrando que ela se preocupa em manter o cliente informado.\n"
     ]
    },
    {
     "name": "stdout",
     "output_type": "stream",
     "text": [
      "--------------------\n",
      "Trecho:\n",
      "Ex: \"No momento, estamos avaliando a situacao e ainda nao temos uma previsao exata para o retorno do sistema.\n",
      "\n"
     ]
    },
    {
     "name": "stdin",
     "output_type": "stream",
     "text": [
      "Classificação (bom/ruim):  bom\n",
      "Justificativa (cite o manual):  Esse trecho é positivo porque enfatiza a importância da transparência durante momentos de crise, como intermitências no sistema. Ser transparente com o cliente ajuda a construir confiança, pois demonstra que a empresa está disposta a comunicar a verdade, mesmo em situações desafiadoras. Essa abordagem pode mitigar a frustração do cliente e reforçar a credibilidade da empresa, mostrando que ela se preocupa em manter o cliente informado.\n"
     ]
    },
    {
     "name": "stdout",
     "output_type": "stream",
     "text": [
      "--------------------\n",
      "Trecho:\n",
      "Entendemos que isso e importante para voce e estamos trabalhando continuamente para diagnosticar e corrigir o problema com urgencia.\"\n",
      "\n"
     ]
    },
    {
     "name": "stdin",
     "output_type": "stream",
     "text": [
      "Classificação (bom/ruim):  bom\n",
      "Justificativa (cite o manual):  Esse trecho é positivo porque demonstra empatia e compreensão em relação à situação do cliente, reconhecendo a importância do problema para ele. A afirmação de que a empresa está \"trabalhando continuamente\" para diagnosticar e corrigir a questão transmite um compromisso com a resolução rápida, o que pode aumentar a confiança do cliente. Essa comunicação proativa ajuda a manter o cliente informado e a minimizar a frustração, reforçando a imagem da empresa como responsável e atenta às necessidades dos clientes.\n"
     ]
    },
    {
     "name": "stdout",
     "output_type": "stream",
     "text": [
      "--------------------\n",
      "Trecho:\n",
      "Mostre Empatia -> Ex:\"Compreendemos completamente como isso afeta suas operacoes e pedimos desculpas pelo transtorno.\n",
      "\n"
     ]
    },
    {
     "name": "stdin",
     "output_type": "stream",
     "text": [
      "Classificação (bom/ruim):  bom\n",
      "Justificativa (cite o manual):  Esse trecho é positivo porque enfatiza a importância da empatia no atendimento ao cliente. Ao reconhecer como a situação afeta as operações do cliente e pedir desculpas pelo transtorno, a empresa demonstra compreensão e respeito pelas dificuldades enfrentadas. Essa abordagem ajuda a humanizar a interação, criando um vínculo emocional e aumentando a satisfação do cliente, além de mostrar que a empresa se preocupa genuinamente com suas necessidades e experiências.\n"
     ]
    },
    {
     "name": "stdout",
     "output_type": "stream",
     "text": [
      "--------------------\n",
      "Trecho:\n",
      "Estamos comprometidos em resolver isso o mais rapido possivel.\"\n",
      "\n"
     ]
    },
    {
     "name": "stdin",
     "output_type": "stream",
     "text": [
      "Classificação (bom/ruim):  bom\n",
      "Justificativa (cite o manual):  Esse trecho é positivo porque expressa um forte compromisso da empresa em resolver o problema rapidamente. Essa declaração transmite ao cliente que a empresa valoriza sua satisfação e está disposta a agir de forma proativa para solucionar a questão. Essa comunicação clara e direta ajuda a aumentar a confiança do cliente, mostrando que a empresa está focada em atender suas necessidades de maneira eficiente e eficaz.\n"
     ]
    },
    {
     "name": "stdout",
     "output_type": "stream",
     "text": [
      "--------------------\n",
      "Trecho:\n",
      "Ofereca Informacoes Atualizad@s -> Mantenha o Canal de Comunicacao Aberto: \"Sinta-se a vontade para entrar em contato conosco a qualquer momento para obter mais informacoes ou se precisar de ajuda com algo mais.\"\n",
      "\n"
     ]
    },
    {
     "name": "stdin",
     "output_type": "stream",
     "text": [
      "Classificação (bom/ruim):  bom\n",
      "Justificativa (cite o manual):  Esse trecho é positivo porque destaca a importância de oferecer informações atualizadas e manter um canal de comunicação aberto com o cliente. Ao encorajar o cliente a entrar em contato sempre que necessário, a empresa demonstra acessibilidade e disposição para ajudar, o que pode aumentar a confiança e a satisfação do cliente. Essa abordagem proativa reforça a ideia de que a empresa está comprometida em fornecer suporte contínuo e em atender às necessidades do cliente de forma eficaz.\n"
     ]
    },
    {
     "name": "stdout",
     "output_type": "stream",
     "text": [
      "--------------------\n",
      "Trecho:\n",
      ": JAMAIS DIZER AO CLIENTE QUE HOUVE TENTATIVA DE INVASAO!\n",
      "\n"
     ]
    },
    {
     "name": "stdin",
     "output_type": "stream",
     "text": [
      "Classificação (bom/ruim):  bom\n",
      "Justificativa (cite o manual):  Esse trecho é positivo porque enfatiza a importância de uma comunicação cuidadosa e sensível em situações delicadas. Ao evitar informar o cliente sobre tentativas de invasão, a empresa protege a confiança do cliente e evita causar pânico ou insegurança. Essa abordagem demonstra um compromisso com a segurança e a tranquilidade do cliente, além de reforçar a necessidade de gerenciar a comunicação de forma a preservar a imagem da empresa e a relação com o cliente.\n"
     ]
    },
    {
     "name": "stdout",
     "output_type": "stream",
     "text": [
      "--------------------\n",
      "Trecho:\n",
      "SEM CAUSAR MAIS DESESPERO.\n",
      "\n"
     ]
    },
    {
     "name": "stdin",
     "output_type": "stream",
     "text": [
      "Classificação (bom/ruim):  bom\n",
      "Justificativa (cite o manual):  Esse trecho é positivo porque enfatiza a importância de uma comunicação cuidadosa e sensível em situações delicadas. Ao evitar informar o cliente sobre tentativas de invasão, a empresa protege a confiança do cliente e evita causar pânico ou insegurança. Essa abordagem demonstra um compromisso com a segurança e a tranquilidade do cliente, além de reforçar a necessidade de gerenciar a comunicação de forma a preservar a imagem da empresa e a relação com o cliente.\n"
     ]
    },
    {
     "name": "stdout",
     "output_type": "stream",
     "text": [
      "--------------------\n",
      "Trecho:\n",
      "3 CONSIDERACOES FINAIS\n",
      "Em resumo, os analistas devem buscar exceder as expectativas dos clientes em todos os canais de atendimento, sendo simpaticos, educados, empaticos, dinamicos, proativos, comunicativos, pacientes, objetivos e claros na resolucao de problemas, transmitindo sempre credibilidade, disposicao e energia diante de qualquer situacao.\n",
      "\n"
     ]
    },
    {
     "name": "stdin",
     "output_type": "stream",
     "text": [
      "Classificação (bom/ruim):  bom\n",
      "Justificativa (cite o manual):  Esse trecho é positivo porque resume a importância de uma abordagem centrada no cliente, destacando várias qualidades essenciais que os analistas devem ter. Ao enfatizar a necessidade de ser simpático, educado, empático, dinâmico, proativo, comunicativo, paciente, objetivo e claro, a empresa demonstra um compromisso com a excelência no atendimento. Essas características ajudam a criar uma experiência positiva para o cliente, superando suas expectativas e construindo relacionamentos de confiança, o que é fundamental para a fidelização e satisfação do cliente.\n"
     ]
    },
    {
     "name": "stdout",
     "output_type": "stream",
     "text": [
      "--------------------\n",
      "Trecho:\n",
      "\"A FIM DE NOS DESTACARMOS NA MISSAO DE \"LEVAR LIBERDADE E QUALIDADE DE VIDA AS PESSOAS, CRIANDO SOLUCOES PARA PRODUZIREM DE QUALQUER LUGAR\", VAMOS EXCEDER AS EXPECTATIVAS DOS NOSSOS CLIENTES, BUSCANDO FAZER SEMPRE DIFERENTE E MELHOR!!\"\n",
      "\n"
     ]
    },
    {
     "name": "stdin",
     "output_type": "stream",
     "text": [
      "Classificação (bom/ruim):  bom\n",
      "Justificativa (cite o manual):  Esse trecho é positivo porque expressa um forte compromisso da empresa em se destacar na sua missão de \"levar liberdade e qualidade de vida às pessoas\". Ao enfatizar a intenção de exceder as expectativas dos clientes e buscar sempre fazer diferente e melhor, a empresa demonstra uma mentalidade inovadora e orientada para resultados. Essa abordagem não apenas inspira a equipe a se empenhar em oferecer soluções de alta qualidade, mas também reforça a conexão emocional com os clientes, mostrando que a empresa se preocupa genuinamente em melhorar suas vidas e experiências.\n"
     ]
    },
    {
     "name": "stdout",
     "output_type": "stream",
     "text": [
      "--------------------\n",
      "JSON criado com sucesso!\n"
     ]
    }
   ],
   "source": [
    "# 3. Informações do arquivo no S3\n",
    "bucket_name = 'datalake-l5'\n",
    "key = 'bronze/Docs-Atendimento ao Cliente/Manual de atendimento L5.txt'\n",
    "try:\n",
    "    # 4. Ler o arquivo do S3\n",
    "    response = s3.get_object(Bucket=bucket_name, Key=key)\n",
    "    texto = response['Body'].read().decode('utf-8', errors='ignore')\n",
    "\n",
    "    # 4.1 Remover caracteres problemáticos (se necessário)\n",
    "    texto = unidecode.unidecode(texto)\n",
    "\n",
    "    print(texto)  # Imprime o texto do arquivo (opcional)\n",
    "\n",
    "    # 5. Tokenização das frases (dentro do try)\n",
    "    frases = sent_tokenize(texto)\n",
    "\n",
    "    dados_json = []\n",
    "    for frase in frases:\n",
    "        # Ignora frases muito curtas ou irrelevantes\n",
    "        if len(frase.split()) < 4 or not re.search(r'[a-zA-Z]', frase):\n",
    "            continue\n",
    "\n",
    "        print(f\"Trecho:\\n{frase}\\n\")\n",
    "        classificacao = input(\"Classificação (bom/ruim): \")\n",
    "        justificativa = input(\"Justificativa (cite o manual): \")\n",
    "\n",
    "        dados_json.append({\n",
    "            \"atendimento\": frase,\n",
    "            \"classificacao\": classificacao,\n",
    "            \"justificativa\": justificativa\n",
    "        })\n",
    "\n",
    "        print(\"-\" * 20)\n",
    "\n",
    " # 6. Salvar os dados em um arquivo JSON (dentro do try)\n",
    "    with open(\"atendimentos.json\", \"w\", encoding=\"utf-8\") as f:\n",
    "        json.dump(dados_json, f, indent=4, ensure_ascii=False)\n",
    "\n",
    "    print(\"JSON criado com sucesso!\")\n",
    "\n",
    "except Exception as e:\n",
    "    print(f\"Erro ao acessar ou processar o arquivo: {e}\")"
   ]
  },
  {
   "cell_type": "code",
   "execution_count": 17,
   "id": "68795fca-3e1a-4fda-bd01-1772d2fb15a5",
   "metadata": {},
   "outputs": [
    {
     "name": "stdout",
     "output_type": "stream",
     "text": [
      "Arquivo JSON enviado com sucesso para o S3 na pasta silver!\n"
     ]
    }
   ],
   "source": [
    "bucket_destino = 'datalake-l5'\n",
    "key_destino = 'silver/Docs-Atendimento ao Cliente-silver/atendimentos.json'  # Caminho desejado no bucket\n",
    "\n",
    "try:\n",
    "    s3.upload_file(\"atendimentos.json\", bucket_destino, key_destino)\n",
    "    print(\"Arquivo JSON enviado com sucesso para o S3 na pasta silver!\")\n",
    "except Exception as e:\n",
    "    print(f\"Erro ao enviar o arquivo para o S3: {e}\")"
   ]
  }
 ],
 "metadata": {
  "kernelspec": {
   "display_name": "Python 3 (ipykernel)",
   "language": "python",
   "name": "python3"
  },
  "language_info": {
   "codemirror_mode": {
    "name": "ipython",
    "version": 3
   },
   "file_extension": ".py",
   "mimetype": "text/x-python",
   "name": "python",
   "nbconvert_exporter": "python",
   "pygments_lexer": "ipython3",
   "version": "3.12.3"
  }
 },
 "nbformat": 4,
 "nbformat_minor": 5
}
