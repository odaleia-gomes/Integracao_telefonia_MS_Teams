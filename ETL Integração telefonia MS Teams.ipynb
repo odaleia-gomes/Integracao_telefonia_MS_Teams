{
 "cells": [
  {
   "cell_type": "code",
   "execution_count": 2,
   "id": "0f7c091c-1cc1-4962-9e98-43a2b516d94a",
   "metadata": {},
   "outputs": [
    {
     "name": "stdout",
     "output_type": "stream",
     "text": [
      "Requirement already satisfied: boto3 in c:\\users\\odaleia.gomes\\appdata\\local\\anaconda3\\lib\\site-packages (1.34.69)\n",
      "Requirement already satisfied: pdfplumber in c:\\users\\odaleia.gomes\\appdata\\local\\anaconda3\\lib\\site-packages (0.11.5)\n",
      "Requirement already satisfied: botocore<1.35.0,>=1.34.69 in c:\\users\\odaleia.gomes\\appdata\\local\\anaconda3\\lib\\site-packages (from boto3) (1.34.162)\n",
      "Requirement already satisfied: jmespath<2.0.0,>=0.7.1 in c:\\users\\odaleia.gomes\\appdata\\local\\anaconda3\\lib\\site-packages (from boto3) (1.0.1)\n",
      "Requirement already satisfied: s3transfer<0.11.0,>=0.10.0 in c:\\users\\odaleia.gomes\\appdata\\local\\anaconda3\\lib\\site-packages (from boto3) (0.10.1)\n",
      "Requirement already satisfied: pdfminer.six==20231228 in c:\\users\\odaleia.gomes\\appdata\\local\\anaconda3\\lib\\site-packages (from pdfplumber) (20231228)\n",
      "Requirement already satisfied: Pillow>=9.1 in c:\\users\\odaleia.gomes\\appdata\\local\\anaconda3\\lib\\site-packages (from pdfplumber) (10.4.0)\n",
      "Requirement already satisfied: pypdfium2>=4.18.0 in c:\\users\\odaleia.gomes\\appdata\\local\\anaconda3\\lib\\site-packages (from pdfplumber) (4.30.1)\n",
      "Requirement already satisfied: charset-normalizer>=2.0.0 in c:\\users\\odaleia.gomes\\appdata\\local\\anaconda3\\lib\\site-packages (from pdfminer.six==20231228->pdfplumber) (3.3.2)\n",
      "Requirement already satisfied: cryptography>=36.0.0 in c:\\users\\odaleia.gomes\\appdata\\local\\anaconda3\\lib\\site-packages (from pdfminer.six==20231228->pdfplumber) (43.0.0)\n",
      "Requirement already satisfied: python-dateutil<3.0.0,>=2.1 in c:\\users\\odaleia.gomes\\appdata\\local\\anaconda3\\lib\\site-packages (from botocore<1.35.0,>=1.34.69->boto3) (2.9.0.post0)\n",
      "Requirement already satisfied: urllib3!=2.2.0,<3,>=1.25.4 in c:\\users\\odaleia.gomes\\appdata\\local\\anaconda3\\lib\\site-packages (from botocore<1.35.0,>=1.34.69->boto3) (2.2.3)\n",
      "Requirement already satisfied: cffi>=1.12 in c:\\users\\odaleia.gomes\\appdata\\local\\anaconda3\\lib\\site-packages (from cryptography>=36.0.0->pdfminer.six==20231228->pdfplumber) (1.17.1)\n",
      "Requirement already satisfied: six>=1.5 in c:\\users\\odaleia.gomes\\appdata\\local\\anaconda3\\lib\\site-packages (from python-dateutil<3.0.0,>=2.1->botocore<1.35.0,>=1.34.69->boto3) (1.16.0)\n",
      "Requirement already satisfied: pycparser in c:\\users\\odaleia.gomes\\appdata\\local\\anaconda3\\lib\\site-packages (from cffi>=1.12->cryptography>=36.0.0->pdfminer.six==20231228->pdfplumber) (2.21)\n"
     ]
    }
   ],
   "source": [
    "!pip install boto3 pdfplumber"
   ]
  },
  {
   "cell_type": "code",
   "execution_count": 3,
   "id": "b0f9b01f-9d25-416b-8d42-c33fa9393ede",
   "metadata": {},
   "outputs": [],
   "source": [
    "import os\n",
    "import boto3\n",
    "import json\n",
    "import pdfplumber\n",
    "import logging\n",
    "import tempfile\n",
    "from botocore.exceptions import ClientError"
   ]
  },
  {
   "cell_type": "code",
   "execution_count": 4,
   "id": "5ad7f94e-58f6-4757-bea0-d7b3076a4f2f",
   "metadata": {},
   "outputs": [],
   "source": [
    "# Configurar logging\n",
    "logging.basicConfig(level=logging.INFO)\n",
    "logger = logging.getLogger(__name__)"
   ]
  },
  {
   "cell_type": "code",
   "execution_count": 5,
   "id": "c8c1e7f4-27e4-4269-a5a7-f4dc471969c4",
   "metadata": {},
   "outputs": [
    {
     "name": "stderr",
     "output_type": "stream",
     "text": [
      "INFO:botocore.credentials:Found credentials in shared credentials file: ~/.aws/credentials\n"
     ]
    }
   ],
   "source": [
    "# Simplificado - vai usar as credenciais da AWS CLI automaticamente\n",
    "s3_client = boto3.client('s3')"
   ]
  },
  {
   "cell_type": "code",
   "execution_count": 11,
   "id": "4a8800c3-4733-4e26-a13b-149c1ebebf21",
   "metadata": {},
   "outputs": [],
   "source": [
    "#tem como objetivo extrair o texto de um arquivo PDF.\n",
    "def extract_text_from_pdf(file_path):\n",
    "    \"\"\"Extrai texto de um arquivo PDF\"\"\"\n",
    "    try:\n",
    "        with pdfplumber.open(file_path) as pdf:\n",
    "            return ''.join(page.extract_text() for page in pdf.pages if page.extract_text())\n",
    "    except Exception as e:\n",
    "        logger.error(f\"Erro ao extrair texto do PDF: {str(e)}\")\n",
    "        return \"\""
   ]
  },
  {
   "cell_type": "code",
   "execution_count": 7,
   "id": "b2468259-156f-498a-b756-3459126bba58",
   "metadata": {},
   "outputs": [],
   "source": [
    "def extract_sections(text_content):\n",
    "    \"\"\"Extrai e estrutura seções do texto\"\"\"\n",
    "    sections = {}\n",
    "    current_section = \"\"\n",
    "    current_content = []\n",
    "\n",
    "    for line in text_content.split('\\n'):\n",
    "        clean_line = line.strip()\n",
    "        if clean_line and not clean_line.isdigit() and (clean_line.isupper() or clean_line.endswith(':')):\n",
    "            if current_section:\n",
    "                sections[current_section] = '\\n'.join(current_content).strip()\n",
    "            current_section = clean_line\n",
    "            current_content = []\n",
    "        elif clean_line:\n",
    "            current_content.append(clean_line)\n",
    "\n",
    "    if current_section:\n",
    "        sections[current_section] = '\\n'.join(current_content).strip()\n",
    "\n",
    "    return sections"
   ]
  },
  {
   "cell_type": "code",
   "execution_count": 8,
   "id": "67216773-9f79-4a68-9630-eb246f2ac8c7",
   "metadata": {},
   "outputs": [],
   "source": [
    "def process_sections(sections):\n",
    "    \"\"\"Processa o conteúdo das seções\"\"\"\n",
    "    processed_sections = {}\n",
    "    for title, content in sections.items():\n",
    "        if '•' in content:\n",
    "            items = [item.strip() for item in content.split('•') if item.strip()]\n",
    "            processed_sections[title] = items\n",
    "        else:\n",
    "            processed_sections[title] = content\n",
    "    return processed_sections"
   ]
  },
  {
   "cell_type": "code",
   "execution_count": 10,
   "id": "8b30839b-659d-4862-ae96-2045c655f79d",
   "metadata": {},
   "outputs": [
    {
     "name": "stderr",
     "output_type": "stream",
     "text": [
      "INFO:__main__:Lendo documento de s3://datalake-l5/bronze/Docs-Integrações/Modelo - Proposta Tecnica - Integração telefonia MS Teams (L5 Networks).pdf\n",
      "INFO:__main__:Salvando JSON em s3://datalake-l5/bronze/Docs-Integrações/Revisar Antes da Silver/Modelo - Proposta Tecnica - Integração telefonia MS Teams (L5 Networks).json\n",
      "INFO:__main__:Processamento concluído com sucesso!\n"
     ]
    }
   ],
   "source": [
    "def main():\n",
    "    try:\n",
    "        # Configuração do bucket e arquivo\n",
    "        bucket_name = 'datalake-l5'\n",
    "        source_key = 'bronze/Docs-Integrações/Modelo - Proposta Tecnica - Integração telefonia MS Teams (L5 Networks).pdf'\n",
    "\n",
    "        # Baixar o documento do S3\n",
    "        logger.info(f\"Lendo documento de s3://{bucket_name}/{source_key}\")\n",
    "        response = s3_client.get_object(Bucket=bucket_name, Key=source_key)\n",
    "\n",
    "        # Criar arquivo temporário usando tempfile\n",
    "        with tempfile.NamedTemporaryFile(delete=False, suffix='.pdf') as temp_file:\n",
    "            temp_pdf_path = temp_file.name\n",
    "            temp_file.write(response['Body'].read())\n",
    "\n",
    "        try:\n",
    "            # Extrair texto do PDF\n",
    "            text_content = extract_text_from_pdf(temp_pdf_path)\n",
    "            if not text_content:\n",
    "                logger.error(\"Nenhum texto foi extraído do PDF.\")\n",
    "                return\n",
    "\n",
    "            # Extrair e processar seções\n",
    "            sections = extract_sections(text_content)\n",
    "            processed_content = process_sections(sections)\n",
    "\n",
    "            # Criar estrutura JSON final\n",
    "            json_data = {\n",
    "                \"titulo\": \"Proposta Técnica - Integração telefonia MS Teams\",\n",
    "                \"empresa\": \"L5 Networks\",\n",
    "                \"secoes\": processed_content\n",
    "            }\n",
    "\n",
    "            # Novo caminho de salvamento no S3\n",
    "            output_key = 'bronze/Docs-Integrações/Revisar Antes da Silver/' + source_key.rsplit('/', 1)[-1].rsplit('.', 1)[0] + '.json'\n",
    "\n",
    "            # Salvar JSON no S3\n",
    "            logger.info(f\"Salvando JSON em s3://{bucket_name}/{output_key}\")\n",
    "            s3_client.put_object(\n",
    "                Bucket=bucket_name,\n",
    "                Key=output_key,\n",
    "                Body=json.dumps(json_data, ensure_ascii=False, indent=4).encode('utf-8'),\n",
    "                ContentType='application/json'\n",
    "            )\n",
    "\n",
    "            logger.info(\"Processamento concluído com sucesso!\")\n",
    "\n",
    "        finally:\n",
    "            # Limpar arquivo temporário\n",
    "            try:\n",
    "                os.unlink(temp_pdf_path)\n",
    "            except Exception as e:\n",
    "                logger.warning(f\"Erro ao remover arquivo temporário: {str(e)}\")\n",
    "\n",
    "    except ClientError as e:\n",
    "        logger.error(f\"Erro AWS: {str(e)}\")\n",
    "    except Exception as e:\n",
    "        logger.error(f\"Erro inesperado: {str(e)}\")\n",
    "\n",
    "if __name__ == \"__main__\":\n",
    "    main()"
   ]
  }
 ],
 "metadata": {
  "kernelspec": {
   "display_name": "Python 3 (ipykernel)",
   "language": "python",
   "name": "python3"
  },
  "language_info": {
   "codemirror_mode": {
    "name": "ipython",
    "version": 3
   },
   "file_extension": ".py",
   "mimetype": "text/x-python",
   "name": "python",
   "nbconvert_exporter": "python",
   "pygments_lexer": "ipython3",
   "version": "3.12.3"
  }
 },
 "nbformat": 4,
 "nbformat_minor": 5
}
